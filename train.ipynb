{
 "cells": [
  {
   "attachments": {},
   "cell_type": "markdown",
   "metadata": {
    "application/vnd.databricks.v1+cell": {
     "cellMetadata": {
      "byteLimit": 2048000,
      "rowLimit": 10000
     },
     "inputWidgets": {},
     "nuid": "09506f71-2bec-44bd-8916-00c44edaaa39",
     "showTitle": false,
     "title": ""
    }
   },
   "source": [
    "# Training Notebook"
   ]
  },
  {
   "attachments": {},
   "cell_type": "markdown",
   "metadata": {
    "application/vnd.databricks.v1+cell": {
     "cellMetadata": {
      "byteLimit": 2048000,
      "rowLimit": 10000
     },
     "inputWidgets": {},
     "nuid": "9ff9eeab-d540-4514-b9dd-9fe9af614231",
     "showTitle": false,
     "title": ""
    }
   },
   "source": [
    "First insert the command line arguments as dbutils widget parameters."
   ]
  },
  {
   "cell_type": "code",
   "execution_count": null,
   "metadata": {
    "application/vnd.databricks.v1+cell": {
     "cellMetadata": {
      "byteLimit": 2048000,
      "rowLimit": 10000
     },
     "inputWidgets": {},
     "nuid": "2ac03a9f-b31b-436e-a064-536719577f02",
     "showTitle": false,
     "title": ""
    }
   },
   "outputs": [],
   "source": [
    "# --- Data params ---\n",
    "dbutils.widgets.text(\"dataset\", \"system_1\")\n",
    "dbutils.widgets.text(\"window_size\", \"100\")\n",
    "dbutils.widgets.text(\"stride\", \"1\")\n",
    "dbutils.widgets.text(\"train_start\", \"0\")\n",
    "dbutils.widgets.text(\"train_end\", \"None\")\n",
    "\n",
    "# --- Model params ---\n",
    "# 1D conv layer\n",
    "dbutils.widgets.text(\"kernel_size\", \"7\")\n",
    "# GAT layers\n",
    "dbutils.widgets.text(\"use_gatv2\", \"True\")\n",
    "dbutils.widgets.text(\"feat_gat_embed_dim\", \"None\")\n",
    "dbutils.widgets.text(\"time_gat_embed_dim\", \"None\")\n",
    "# GRU layer\n",
    "dbutils.widgets.text(\"gru_n_layers\", \"1\")\n",
    "dbutils.widgets.text(\"gru_hid_dim\", \"150\")\n",
    "# Forecasting Model\n",
    "dbutils.widgets.text(\"fc_n_layers\", \"3\")\n",
    "dbutils.widgets.text(\"fc_hid_dim\", \"150\")\n",
    "# Reconstruction Model\n",
    "dbutils.widgets.text(\"recon_n_layers\", \"1\")\n",
    "dbutils.widgets.text(\"recon_hid_dim\", \"150\")\n",
    "# Other\n",
    "dbutils.widgets.text(\"alpha\", \"0.2\")\n",
    "dbutils.widgets.text(\"gamma\", \"1.0\")\n",
    "\n",
    "# --- Train params ---\n",
    "dbutils.widgets.text(\"epochs\", \"30\")\n",
    "dbutils.widgets.text(\"val_split\", \"0.1\")\n",
    "dbutils.widgets.text(\"batch_size\", \"256\")\n",
    "dbutils.widgets.text(\"init_lr\", \"0.001\")\n",
    "dbutils.widgets.text(\"step_lr\", \"10\")\n",
    "dbutils.widgets.text(\"gamma_lr\", \"0.9\")\n",
    "dbutils.widgets.text(\"patience\", \"None\")\n",
    "dbutils.widgets.text(\"shuffle_dataset\", \"True\")\n",
    "dbutils.widgets.text(\"dropout\", \"0.2\")\n",
    "dbutils.widgets.text(\"use_cuda\", \"True\")\n",
    "dbutils.widgets.text(\"print_every\", \"1\")\n",
    "# For epsilon\n",
    "dbutils.widgets.text(\"reg_level\", \"1\")\n",
    "dbutils.widgets.text(\"use_mov_av\", \"False\")"
   ]
  },
  {
   "attachments": {},
   "cell_type": "markdown",
   "metadata": {
    "application/vnd.databricks.v1+cell": {
     "cellMetadata": {
      "byteLimit": 2048000,
      "rowLimit": 10000
     },
     "inputWidgets": {},
     "nuid": "7804629f-baeb-4831-b7ac-745324928f2d",
     "showTitle": false,
     "title": ""
    }
   },
   "source": [
    "Import the required modules."
   ]
  },
  {
   "cell_type": "code",
   "execution_count": null,
   "metadata": {
    "application/vnd.databricks.v1+cell": {
     "cellMetadata": {
      "byteLimit": 2048000,
      "rowLimit": 10000
     },
     "inputWidgets": {},
     "nuid": "5e91f149-7064-49d3-a5b7-014f5974e51a",
     "showTitle": false,
     "title": ""
    }
   },
   "outputs": [],
   "source": [
    "from datetime import datetime\n",
    "import torch.nn as nn\n",
    "import torch\n",
    "import pandas as pd\n",
    "import numpy as np\n",
    "\n",
    "from architecture import MTAD_GAT\n",
    "from model import Handler\n",
    "from utils import str2bool, str2type\n",
    "from utils import get_data, SlidingWindowDataset, create_data_loader, find_epsilon, update_json\n",
    "\n",
    "import mlflow"
   ]
  },
  {
   "attachments": {},
   "cell_type": "markdown",
   "metadata": {
    "application/vnd.databricks.v1+cell": {
     "cellMetadata": {
      "byteLimit": 2048000,
      "rowLimit": 10000
     },
     "inputWidgets": {},
     "nuid": "eb07a76a-659a-4b41-ba83-1e1453daa0b3",
     "showTitle": false,
     "title": ""
    }
   },
   "source": [
    "Get the parameters' values and fix them to the correct type."
   ]
  },
  {
   "cell_type": "code",
   "execution_count": null,
   "metadata": {
    "application/vnd.databricks.v1+cell": {
     "cellMetadata": {
      "byteLimit": 2048000,
      "rowLimit": 10000
     },
     "inputWidgets": {},
     "nuid": "673629aa-5ba5-4c5e-b863-6809003bdbb6",
     "showTitle": false,
     "title": ""
    }
   },
   "outputs": [],
   "source": [
    "dataset = dbutils.widgets.get(\"dataset\")\n",
    "window_size = int(dbutils.widgets.get(\"window_size\"))\n",
    "stride = int(dbutils.widgets.get(\"stride\"))\n",
    "train_start = int(dbutils.widgets.get(\"train_start\"))\n",
    "train_end = str2type(dbutils.widgets.get(\"train_end\"))\n",
    "\n",
    "kernel_size = int(dbutils.widgets.get(\"kernel_size\"))\n",
    "use_gatv2 = str2type(dbutils.widgets.get(\"use_gatv2\"))\n",
    "feat_gat_embed_dim = str2type(dbutils.widgets.get(\"feat_gat_embed_dim\"))\n",
    "time_gat_embed_dim = str2type(dbutils.widgets.get(\"time_gat_embed_dim\"))\n",
    "gru_n_layers = int(dbutils.widgets.get(\"gru_n_layers\"))\n",
    "gru_hid_dim = int(dbutils.widgets.get(\"gru_hid_dim\"))\n",
    "fc_n_layers = int(dbutils.widgets.get(\"fc_n_layers\"))\n",
    "fc_hid_dim = int(dbutils.widgets.get(\"fc_hid_dim\"))\n",
    "recon_n_layers = int(dbutils.widgets.get(\"recon_n_layers\"))\n",
    "recon_hid_dim = int(dbutils.widgets.get(\"recon_hid_dim\"))\n",
    "alpha = float(dbutils.widgets.get(\"alpha\"))\n",
    "gamma = float(dbutils.widgets.get(\"gamma\"))\n",
    "\n",
    "epochs = int(dbutils.widgets.get(\"epochs\"))\n",
    "val_split = float(dbutils.widgets.get(\"val_split\"))\n",
    "batch_size = int(dbutils.widgets.get(\"batch_size\"))\n",
    "init_lr = float(dbutils.widgets.get(\"init_lr\"))\n",
    "step_lr = int(dbutils.widgets.get(\"step_lr\"))\n",
    "gamma_lr = float(dbutils.widgets.get(\"gamma_lr\"))\n",
    "patience = str2type(dbutils.widgets.get(\"patience\"))\n",
    "shuffle_dataset = str2type(dbutils.widgets.get(\"shuffle_dataset\"))\n",
    "dropout = float(dbutils.widgets.get(\"dropout\"))\n",
    "use_cuda = str2type(dbutils.widgets.get(\"use_cuda\"))\n",
    "print_every = int(dbutils.widgets.get(\"print_every\"))\n",
    "reg_level = int(dbutils.widgets.get(\"reg_level\"))\n",
    "use_mov_av = str2type(dbutils.widgets.get(\"use_mov_av\"))"
   ]
  },
  {
   "attachments": {},
   "cell_type": "markdown",
   "metadata": {
    "application/vnd.databricks.v1+cell": {
     "cellMetadata": {
      "byteLimit": 2048000,
      "rowLimit": 10000
     },
     "inputWidgets": {},
     "nuid": "9256dd99-8802-4b10-88e9-1b1b2c0c3659",
     "showTitle": false,
     "title": ""
    }
   },
   "source": [
    "Add some of these to a dictionary to be saved as a `config.txt` file, since it may need to be loaded from the evaluation/prediction script."
   ]
  },
  {
   "cell_type": "code",
   "execution_count": null,
   "metadata": {
    "application/vnd.databricks.v1+cell": {
     "cellMetadata": {
      "byteLimit": 2048000,
      "rowLimit": 10000
     },
     "inputWidgets": {},
     "nuid": "af50dabb-bc62-4735-8afb-e93425fe5ede",
     "showTitle": false,
     "title": ""
    }
   },
   "outputs": [],
   "source": [
    "args = {\"window_size\":window_size, \"gamma\":gamma, \"batch_size\":batch_size}"
   ]
  },
  {
   "attachments": {},
   "cell_type": "markdown",
   "metadata": {
    "application/vnd.databricks.v1+cell": {
     "cellMetadata": {
      "byteLimit": 2048000,
      "rowLimit": 10000
     },
     "inputWidgets": {},
     "nuid": "871137c6-e5f2-4d15-a1a3-5b85569a07d6",
     "showTitle": false,
     "title": ""
    }
   },
   "source": [
    "Make sure the proper container (to draw data from) is mounted."
   ]
  },
  {
   "cell_type": "code",
   "execution_count": null,
   "metadata": {
    "application/vnd.databricks.v1+cell": {
     "cellMetadata": {
      "byteLimit": 2048000,
      "rowLimit": 10000
     },
     "inputWidgets": {},
     "nuid": "df750dac-d357-4332-9834-093688f95f38",
     "showTitle": false,
     "title": ""
    }
   },
   "outputs": [
    {
     "name": "stdout",
     "output_type": "stream",
     "text": [
      "Mount already exists.\n"
     ]
    }
   ],
   "source": [
    "# Checking if mount already exists\n",
    "mnts = dbutils.fs.mounts()\n",
    "mnt_exists = False\n",
    "for mount in mnts:\n",
    "    if mount.mountPoint == \"/mnt/datasets\":\n",
    "        mnt_exists = True\n",
    "\n",
    "if mnt_exists == False:\n",
    "    # Setup some parameters and keys\n",
    "    account_name = \"canopuslake\"\n",
    "    container = \"datasets\"\n",
    "\n",
    "    client_secret = dbutils.secrets.get(scope=\"vault_scope\", key=\"dbricks-to-lake-secret\")\n",
    "    client_id = dbutils.secrets.get(scope=\"vault_scope\", key=\"dbricks-to-lake-client-ID\")\n",
    "    tenant_id = dbutils.secrets.get(scope=\"vault_scope\", key=\"dbricks-to-lake-tenant-ID\")\n",
    "\n",
    "    # Define the connection configurations\n",
    "    configs = {\"fs.azure.account.auth.type\": \"OAuth\",\n",
    "          \"fs.azure.account.oauth.provider.type\": \"org.apache.hadoop.fs.azurebfs.oauth2.ClientCredsTokenProvider\",\n",
    "          \"fs.azure.account.oauth2.client.id\": client_id,\n",
    "          \"fs.azure.account.oauth2.client.secret\": client_secret,\n",
    "          \"fs.azure.account.oauth2.client.endpoint\": f\"https://login.microsoftonline.com/{tenant_id}/oauth2/token\"}\n",
    "\n",
    "    # Command to mount the blob storage container locally\n",
    "    dbutils.fs.mount(\n",
    "    source = f\"abfss://{container}@{account_name}.dfs.core.windows.net/\",\n",
    "    mount_point = \"/mnt/datasets\",\n",
    "    extra_configs = configs)\n",
    "else:\n",
    "    print(\"Mount already exists.\")"
   ]
  },
  {
   "attachments": {},
   "cell_type": "markdown",
   "metadata": {
    "application/vnd.databricks.v1+cell": {
     "cellMetadata": {
      "byteLimit": 2048000,
      "rowLimit": 10000
     },
     "inputWidgets": {},
     "nuid": "5806886e-34de-4bc6-95c1-8530d18b5c62",
     "showTitle": false,
     "title": ""
    }
   },
   "source": [
    "Finally, run the training script."
   ]
  },
  {
   "cell_type": "code",
   "execution_count": null,
   "metadata": {
    "application/vnd.databricks.v1+cell": {
     "cellMetadata": {
      "byteLimit": 2048000,
      "rowLimit": 10000
     },
     "inputWidgets": {},
     "nuid": "15f184fd-ab40-4460-ab4e-ace57c155b85",
     "showTitle": false,
     "title": ""
    }
   },
   "outputs": [
    {
     "name": "stdout",
     "output_type": "stream",
     "text": [
      "Proceeding with forecasting and reconstruction of all 38 input features.\n",
      "Training:\n",
      "The size of the dataset is: 25542 sample(s).\n",
      "Reserved 2837 sample(s) for validation.\n",
      "Training model for 5 epoch(s)...\n",
      "[Epoch 1]\n",
      "Elapsed time: 37.9s\n",
      "Forecasting Loss: 0.07120,\tReconstruction Loss: 0.06059,\tTotal Training Loss: 0.13179.\n",
      "Forecasting Loss: 0.02351,\tReconstruction Loss: 0.02822,\tTotal Validation Loss: 0.05173.\n",
      "[Epoch 2]\n",
      "Elapsed time: 37.9s\n",
      "Forecasting Loss: 0.03149,\tReconstruction Loss: 0.02505,\tTotal Training Loss: 0.05654.\n",
      "Forecasting Loss: 0.02114,\tReconstruction Loss: 0.02272,\tTotal Validation Loss: 0.04386.\n",
      "[Epoch 3]\n",
      "Elapsed time: 38.8s\n",
      "Forecasting Loss: 0.02741,\tReconstruction Loss: 0.02237,\tTotal Training Loss: 0.04977.\n",
      "Forecasting Loss: 0.02064,\tReconstruction Loss: 0.02200,\tTotal Validation Loss: 0.04264.\n",
      "[Epoch 4]\n",
      "Elapsed time: 39.2s\n",
      "Forecasting Loss: 0.02551,\tReconstruction Loss: 0.02178,\tTotal Training Loss: 0.04729.\n",
      "Forecasting Loss: 0.01951,\tReconstruction Loss: 0.02161,\tTotal Validation Loss: 0.04112.\n",
      "[Epoch 5]\n",
      "Elapsed time: 39.7s\n",
      "Forecasting Loss: 0.02413,\tReconstruction Loss: 0.02127,\tTotal Training Loss: 0.04540.\n",
      "Forecasting Loss: 0.01878,\tReconstruction Loss: 0.02151,\tTotal Validation Loss: 0.04029.\n",
      "\n",
      "Training finished after 193s.\n",
      "Calculating scores on training data to be used for thresholding...\n"
     ]
    },
    {
     "name": "stderr",
     "output_type": "stream",
     "text": [
      "\r  0%|          | 0/100 [00:00<?, ?it/s]\r  1%|          | 1/100 [00:00<00:16,  5.94it/s]\r  2%|▏         | 2/100 [00:00<00:16,  5.91it/s]\r  3%|▎         | 3/100 [00:00<00:16,  5.85it/s]\r  4%|▍         | 4/100 [00:00<00:16,  5.88it/s]\r  5%|▌         | 5/100 [00:00<00:16,  5.88it/s]\r  6%|▌         | 6/100 [00:01<00:16,  5.78it/s]\r  7%|▋         | 7/100 [00:01<00:16,  5.77it/s]\r  8%|▊         | 8/100 [00:01<00:15,  5.81it/s]\r  9%|▉         | 9/100 [00:01<00:15,  5.80it/s]\r 10%|█         | 10/100 [00:01<00:15,  5.82it/s]\r 11%|█         | 11/100 [00:01<00:15,  5.80it/s]\r 12%|█▏        | 12/100 [00:02<00:15,  5.80it/s]\r 13%|█▎        | 13/100 [00:02<00:15,  5.80it/s]\r 14%|█▍        | 14/100 [00:02<00:14,  5.82it/s]\r 15%|█▌        | 15/100 [00:02<00:14,  5.83it/s]\r 16%|█▌        | 16/100 [00:02<00:14,  5.82it/s]\r 17%|█▋        | 17/100 [00:02<00:14,  5.83it/s]\r 18%|█▊        | 18/100 [00:03<00:14,  5.81it/s]\r 19%|█▉        | 19/100 [00:03<00:13,  5.83it/s]\r 20%|██        | 20/100 [00:03<00:13,  5.81it/s]\r 21%|██        | 21/100 [00:03<00:13,  5.83it/s]\r 22%|██▏       | 22/100 [00:03<00:13,  5.81it/s]\r 23%|██▎       | 23/100 [00:03<00:13,  5.82it/s]\r 24%|██▍       | 24/100 [00:04<00:13,  5.80it/s]\r 25%|██▌       | 25/100 [00:04<00:12,  5.82it/s]\r 26%|██▌       | 26/100 [00:04<00:12,  5.80it/s]\r 27%|██▋       | 27/100 [00:04<00:12,  5.82it/s]\r 28%|██▊       | 28/100 [00:04<00:12,  5.83it/s]\r 29%|██▉       | 29/100 [00:04<00:12,  5.83it/s]\r 30%|███       | 30/100 [00:05<00:11,  5.84it/s]\r 31%|███       | 31/100 [00:05<00:11,  5.81it/s]\r 32%|███▏      | 32/100 [00:05<00:11,  5.83it/s]\r 33%|███▎      | 33/100 [00:05<00:11,  5.79it/s]\r 34%|███▍      | 34/100 [00:05<00:11,  5.83it/s]\r 35%|███▌      | 35/100 [00:06<00:11,  5.80it/s]\r 36%|███▌      | 36/100 [00:06<00:10,  5.82it/s]\r 37%|███▋      | 37/100 [00:06<00:10,  5.80it/s]\r 38%|███▊      | 38/100 [00:06<00:10,  5.81it/s]\r 39%|███▉      | 39/100 [00:06<00:10,  5.79it/s]\r 40%|████      | 40/100 [00:06<00:10,  5.80it/s]\r 41%|████      | 41/100 [00:07<00:10,  5.79it/s]\r 42%|████▏     | 42/100 [00:07<00:09,  5.81it/s]\r 43%|████▎     | 43/100 [00:07<00:09,  5.79it/s]\r 44%|████▍     | 44/100 [00:07<00:09,  5.80it/s]\r 45%|████▌     | 45/100 [00:07<00:09,  5.79it/s]\r 46%|████▌     | 46/100 [00:07<00:09,  5.80it/s]\r 47%|████▋     | 47/100 [00:08<00:09,  5.79it/s]\r 48%|████▊     | 48/100 [00:08<00:08,  5.81it/s]\r 49%|████▉     | 49/100 [00:08<00:08,  5.80it/s]\r 50%|█████     | 50/100 [00:08<00:08,  5.80it/s]\r 51%|█████     | 51/100 [00:08<00:08,  5.82it/s]\r 52%|█████▏    | 52/100 [00:08<00:08,  5.81it/s]\r 53%|█████▎    | 53/100 [00:09<00:08,  5.83it/s]\r 54%|█████▍    | 54/100 [00:09<00:07,  5.79it/s]\r 55%|█████▌    | 55/100 [00:09<00:07,  5.82it/s]\r 56%|█████▌    | 56/100 [00:09<00:07,  5.78it/s]\r 57%|█████▋    | 57/100 [00:09<00:07,  5.82it/s]\r 58%|█████▊    | 58/100 [00:09<00:07,  5.78it/s]\r 59%|█████▉    | 59/100 [00:10<00:07,  5.82it/s]\r 60%|██████    | 60/100 [00:10<00:06,  5.80it/s]\r 61%|██████    | 61/100 [00:10<00:06,  5.82it/s]\r 62%|██████▏   | 62/100 [00:10<00:06,  5.80it/s]\r 63%|██████▎   | 63/100 [00:10<00:06,  5.82it/s]\r 64%|██████▍   | 64/100 [00:11<00:06,  5.80it/s]\r 65%|██████▌   | 65/100 [00:11<00:06,  5.81it/s]\r 66%|██████▌   | 66/100 [00:11<00:05,  5.80it/s]\r 67%|██████▋   | 67/100 [00:11<00:05,  5.81it/s]\r 68%|██████▊   | 68/100 [00:11<00:05,  5.80it/s]\r 69%|██████▉   | 69/100 [00:11<00:05,  5.80it/s]\r 70%|███████   | 70/100 [00:12<00:05,  5.81it/s]\r 71%|███████   | 71/100 [00:12<00:04,  5.80it/s]\r 72%|███████▏  | 72/100 [00:12<00:04,  5.82it/s]\r 73%|███████▎  | 73/100 [00:12<00:04,  5.81it/s]\r 74%|███████▍  | 74/100 [00:12<00:04,  5.83it/s]\r 75%|███████▌  | 75/100 [00:12<00:04,  5.80it/s]\r 76%|███████▌  | 76/100 [00:13<00:04,  5.82it/s]\r 77%|███████▋  | 77/100 [00:13<00:03,  5.78it/s]\r 78%|███████▊  | 78/100 [00:13<00:03,  5.82it/s]\r 79%|███████▉  | 79/100 [00:13<00:03,  5.78it/s]\r 80%|████████  | 80/100 [00:13<00:03,  5.82it/s]\r 81%|████████  | 81/100 [00:13<00:03,  5.80it/s]\r 82%|████████▏ | 82/100 [00:14<00:03,  5.82it/s]\r 83%|████████▎ | 83/100 [00:14<00:02,  5.80it/s]\r 84%|████████▍ | 84/100 [00:14<00:02,  5.81it/s]\r 85%|████████▌ | 85/100 [00:14<00:02,  5.79it/s]\r 86%|████████▌ | 86/100 [00:14<00:02,  5.82it/s]\r 87%|████████▋ | 87/100 [00:14<00:02,  5.81it/s]\r 88%|████████▊ | 88/100 [00:15<00:02,  5.81it/s]\r 89%|████████▉ | 89/100 [00:15<00:01,  5.81it/s]\r 90%|█████████ | 90/100 [00:15<00:01,  5.81it/s]\r 91%|█████████ | 91/100 [00:15<00:01,  5.82it/s]\r 92%|█████████▏| 92/100 [00:15<00:01,  5.81it/s]\r 93%|█████████▎| 93/100 [00:16<00:01,  5.83it/s]\r 94%|█████████▍| 94/100 [00:16<00:01,  5.80it/s]\r 95%|█████████▌| 95/100 [00:16<00:00,  5.83it/s]\r 96%|█████████▌| 96/100 [00:16<00:00,  5.79it/s]\r 97%|█████████▋| 97/100 [00:16<00:00,  5.82it/s]\r 98%|█████████▊| 98/100 [00:16<00:00,  5.78it/s]\r 99%|█████████▉| 99/100 [00:17<00:00,  5.82it/s]\r100%|██████████| 100/100 [00:17<00:00,  6.25it/s]\r100%|██████████| 100/100 [00:17<00:00,  5.82it/s]\n",
      "\r  0%|          | 0/12 [00:00<?, ?it/s]\r  8%|▊         | 1/12 [00:00<00:01,  6.04it/s]\r 17%|█▋        | 2/12 [00:00<00:01,  5.88it/s]\r 25%|██▌       | 3/12 [00:00<00:01,  5.87it/s]\r 33%|███▎      | 4/12 [00:00<00:01,  5.83it/s]\r 42%|████▏     | 5/12 [00:00<00:01,  5.85it/s]\r 50%|█████     | 6/12 [00:01<00:01,  5.76it/s]\r 58%|█████▊    | 7/12 [00:01<00:00,  5.80it/s]\r 67%|██████▋   | 8/12 [00:01<00:00,  5.78it/s]\r 75%|███████▌  | 9/12 [00:01<00:00,  5.81it/s]\r 83%|████████▎ | 10/12 [00:01<00:00,  5.79it/s]\r 92%|█████████▏| 11/12 [00:01<00:00,  5.81it/s]\r100%|██████████| 12/12 [00:01<00:00,  6.29it/s]\n",
      "/databricks/python/lib/python3.9/site-packages/_distutils_hack/__init__.py:30: UserWarning: Setuptools is replacing distutils.\n",
      "  warnings.warn(\"Setuptools is replacing distutils.\")\n"
     ]
    },
    {
     "name": "stdout",
     "output_type": "stream",
     "text": [
      "Finished.\n"
     ]
    }
   ],
   "source": [
    "# Get custom id for every run\n",
    "id = datetime.now().strftime(\"%d%m%Y_%H%M%S\")\n",
    "\n",
    "experiment = mlflow.set_experiment(experiment_name=f\"/Experiments/{dataset}_training\")\n",
    "exp_id = experiment.experiment_id\n",
    "\n",
    "with mlflow.start_run(experiment_id=exp_id, run_name=id):\n",
    "\n",
    "    # --------------------------- START TRAINING -----------------------------\n",
    "    # Get data from the dataset\n",
    "    (x_train, _) = get_data(dataset, mode=\"train\", start=train_start, end=train_end)\n",
    "\n",
    "    # Cast data into tensor objects\n",
    "    x_train = torch.from_numpy(x_train).float()\n",
    "    n_features = x_train.shape[1]\n",
    "\n",
    "    # We want to perform forecasting/reconstruction on all features\n",
    "    out_dim = n_features\n",
    "    print(f\"Proceeding with forecasting and reconstruction of all {n_features} input features.\")\n",
    "\n",
    "    # Construct dataset from tensor object\n",
    "    train_dataset = SlidingWindowDataset(x_train, window_size, stride)\n",
    "\n",
    "    print(\"Training:\")\n",
    "    # Create the data loader(s)\n",
    "    train_loader, val_loader = create_data_loader(train_dataset, batch_size, \n",
    "                                                val_split, shuffle_dataset)\n",
    "\n",
    "    # Initialize the model\n",
    "    model = MTAD_GAT(\n",
    "        n_features,\n",
    "        window_size,\n",
    "        out_dim,\n",
    "        kernel_size=kernel_size,\n",
    "        use_gatv2=use_gatv2,\n",
    "        feat_gat_embed_dim=feat_gat_embed_dim,\n",
    "        time_gat_embed_dim=time_gat_embed_dim,\n",
    "        gru_n_layers=gru_n_layers,\n",
    "        gru_hid_dim=gru_hid_dim,\n",
    "        forecast_n_layers=fc_n_layers,\n",
    "        forecast_hid_dim=fc_hid_dim,\n",
    "        recon_n_layers=recon_n_layers,\n",
    "        recon_hid_dim=recon_hid_dim,\n",
    "        dropout=dropout,\n",
    "        alpha=alpha\n",
    "    )\n",
    "\n",
    "    # Initialize the optimizer\n",
    "    optimizer = torch.optim.Adam(model.parameters(), lr=init_lr)\n",
    "\n",
    "    # Add a scheduler for variable learning rate\n",
    "    e_scheduler = torch.optim.lr_scheduler.StepLR(optimizer, step_lr, gamma=gamma_lr)\n",
    "\n",
    "    # Set the criterion for each process: forecasting & reconstruction\n",
    "    forecast_criterion = nn.MSELoss()\n",
    "    recon_criterion = nn.MSELoss()\n",
    "\n",
    "    # Initialize the Handler module\n",
    "    handler = Handler(\n",
    "        model=model,\n",
    "        optimizer=optimizer,\n",
    "        scheduler=e_scheduler,\n",
    "        window_size=window_size,\n",
    "        n_features=n_features,\n",
    "        batch_size=batch_size,\n",
    "        n_epochs=epochs,\n",
    "        patience=patience,\n",
    "        forecast_criterion=forecast_criterion,\n",
    "        recon_criterion=recon_criterion,\n",
    "        use_cuda=use_cuda,\n",
    "        print_every=print_every,\n",
    "        gamma=gamma\n",
    "    )\n",
    "\n",
    "    # Start training\n",
    "    handler.fit(train_loader, val_loader)\n",
    "\n",
    "    # ---------------------------- END TRAINING ------------------------------\n",
    "\n",
    "    art_uri = mlflow.get_artifact_uri()\n",
    "\n",
    "    # Get scores for training data to be used for thresholds later on\n",
    "    print(\"Calculating scores on training data to be used for thresholding...\")\n",
    "    anom_scores, _ = handler.score(loader=train_loader, details=False)\n",
    "    # Also get the ones from the validation data\n",
    "    if val_loader is not None:\n",
    "        val_scores, _ = handler.score(loader=val_loader, details=False)\n",
    "        anom_scores = np.concatenate((anom_scores, val_scores), axis=0)\n",
    "\n",
    "    # get threshold using epsilon method\n",
    "    if str(reg_level).lower() != \"none\":\n",
    "\n",
    "        if use_mov_av:\n",
    "            smoothing_window = int(batch_size * window_size * 0.05)\n",
    "            anom_scores = pd.DataFrame(anom_scores).ewm(span=smoothing_window).mean().values.flatten()\n",
    "\n",
    "        e_thresh = find_epsilon(errors=anom_scores, reg_level=reg_level)\n",
    "        update_json(art_uri, \"thresholds.json\", {\"epsilon\":e_thresh})\n",
    "\n",
    "    mlflow.log_dict(args, \"config.txt\")\n",
    "\n",
    "    mlflow.log_dict({'anom_scores':anom_scores.tolist()}, \"anom_scores.json\")\n",
    "\n",
    "    # Don't log all parameters, only some are relevant for tuning\n",
    "    to_be_logged = {'window_size':window_size, 'kernel_size':kernel_size, 'gru_n_layers':gru_n_layers, 'gru_hid_dim':gru_hid_dim, 'batch_size':batch_size, 'fc_n_layers':fc_n_layers, 'fc_hid_dim':fc_hid_dim, 'recon_n_layers':recon_n_layers, 'recon_hid_dim':recon_hid_dim, 'alpha':alpha, 'gamma':gamma, 'dropout':dropout}\n",
    "    for key in to_be_logged:\n",
    "        mlflow.log_param(key, to_be_logged[key])\n",
    "\n",
    "    mlflow.pytorch.log_model(\n",
    "        pytorch_model=handler.model,\n",
    "        artifact_path=f\"{dataset}_model\",\n",
    "        #registered_model_name=f\"{dataset}_model\"\n",
    "    )\n",
    "\n",
    "print(\"Finished.\")"
   ]
  },
  {
   "cell_type": "code",
   "execution_count": null,
   "metadata": {
    "application/vnd.databricks.v1+cell": {
     "cellMetadata": {},
     "inputWidgets": {},
     "nuid": "cbb52cad-82ec-4ea6-bdd5-0378447edc71",
     "showTitle": false,
     "title": ""
    }
   },
   "outputs": [],
   "source": []
  }
 ],
 "metadata": {
  "application/vnd.databricks.v1+notebook": {
   "dashboards": [],
   "language": "python",
   "notebookMetadata": {
    "mostRecentlyExecutedCommandWithImplicitDF": {
     "commandId": 4437225730625235,
     "dataframes": [
      "_sqldf"
     ]
    },
    "pythonIndentUnit": 4,
    "widgetLayout": [
     {
      "breakBefore": false,
      "name": "alpha",
      "width": 90
     },
     {
      "breakBefore": false,
      "name": "batch_size",
      "width": 90
     },
     {
      "breakBefore": false,
      "name": "dataset",
      "width": 90
     },
     {
      "breakBefore": false,
      "name": "dropout",
      "width": 90
     },
     {
      "breakBefore": false,
      "name": "epochs",
      "width": 90
     },
     {
      "breakBefore": false,
      "name": "fc_n_layers",
      "width": 90
     },
     {
      "breakBefore": false,
      "name": "feat_gat_embed_dim",
      "width": 90
     },
     {
      "breakBefore": false,
      "name": "gamma",
      "width": 90
     },
     {
      "breakBefore": false,
      "name": "gamma_lr",
      "width": 90
     },
     {
      "breakBefore": false,
      "name": "fc_hid_dim",
      "width": 90
     },
     {
      "breakBefore": false,
      "name": "gru_n_layers",
      "width": 90
     },
     {
      "breakBefore": false,
      "name": "init_lr",
      "width": 90
     },
     {
      "breakBefore": false,
      "name": "kernel_size",
      "width": 90
     },
     {
      "breakBefore": false,
      "name": "patience",
      "width": 90
     },
     {
      "breakBefore": false,
      "name": "print_every",
      "width": 90
     },
     {
      "breakBefore": false,
      "name": "gru_hid_dim",
      "width": 90
     },
     {
      "breakBefore": false,
      "name": "recon_n_layers",
      "width": 90
     },
     {
      "breakBefore": false,
      "name": "reg_level",
      "width": 90
     },
     {
      "breakBefore": false,
      "name": "shuffle_dataset",
      "width": 90
     },
     {
      "breakBefore": false,
      "name": "step_lr",
      "width": 90
     },
     {
      "breakBefore": false,
      "name": "stride",
      "width": 90
     },
     {
      "breakBefore": false,
      "name": "recon_hid_dim",
      "width": 90
     },
     {
      "breakBefore": false,
      "name": "time_gat_embed_dim",
      "width": 90
     },
     {
      "breakBefore": false,
      "name": "train_end",
      "width": 90
     },
     {
      "breakBefore": false,
      "name": "train_start",
      "width": 90
     },
     {
      "breakBefore": false,
      "name": "use_cuda",
      "width": 90
     },
     {
      "breakBefore": false,
      "name": "use_gatv2",
      "width": 90
     },
     {
      "breakBefore": false,
      "name": "use_mov_av",
      "width": 90
     },
     {
      "breakBefore": false,
      "name": "val_split",
      "width": 90
     },
     {
      "breakBefore": false,
      "name": "window_size",
      "width": 179
     }
    ]
   },
   "notebookName": "train",
   "widgets": {
    "alpha": {
     "currentValue": "0.2",
     "nuid": "f599b4ee-20b8-4a9a-9f89-e8845f2bed37",
     "widgetInfo": {
      "defaultValue": "0.2",
      "label": null,
      "name": "alpha",
      "options": {
       "validationRegex": null,
       "widgetType": "text"
      },
      "widgetType": "text"
     }
    },
    "batch_size": {
     "currentValue": "256",
     "nuid": "bb4651e8-2585-4d49-b24c-a77985382cff",
     "widgetInfo": {
      "defaultValue": "256",
      "label": null,
      "name": "batch_size",
      "options": {
       "validationRegex": null,
       "widgetType": "text"
      },
      "widgetType": "text"
     }
    },
    "dataset": {
     "currentValue": "system_1",
     "nuid": "a27b7de8-b5e0-44ca-bce3-9eb19d9d404d",
     "widgetInfo": {
      "defaultValue": "system_1",
      "label": null,
      "name": "dataset",
      "options": {
       "validationRegex": null,
       "widgetType": "text"
      },
      "widgetType": "text"
     }
    },
    "dropout": {
     "currentValue": "0.2",
     "nuid": "df09abfa-a689-4051-b99c-23d454e5ba9d",
     "widgetInfo": {
      "defaultValue": "0.2",
      "label": null,
      "name": "dropout",
      "options": {
       "validationRegex": null,
       "widgetType": "text"
      },
      "widgetType": "text"
     }
    },
    "epochs": {
     "currentValue": "5",
     "nuid": "aa6a5a9c-e07a-4d1a-b522-fa02d2c84a70",
     "widgetInfo": {
      "defaultValue": "30",
      "label": null,
      "name": "epochs",
      "options": {
       "validationRegex": null,
       "widgetType": "text"
      },
      "widgetType": "text"
     }
    },
    "fc_hid_dim": {
     "currentValue": "150",
     "nuid": "dd597c48-2566-4ff6-897d-a99bde3f50db",
     "widgetInfo": {
      "defaultValue": "150",
      "label": null,
      "name": "fc_hid_dim",
      "options": {
       "validationRegex": null,
       "widgetType": "text"
      },
      "widgetType": "text"
     }
    },
    "fc_n_layers": {
     "currentValue": "3",
     "nuid": "cf49cbfd-a794-4418-a0d4-baa9ff54d737",
     "widgetInfo": {
      "defaultValue": "3",
      "label": null,
      "name": "fc_n_layers",
      "options": {
       "validationRegex": null,
       "widgetType": "text"
      },
      "widgetType": "text"
     }
    },
    "feat_gat_embed_dim": {
     "currentValue": "None",
     "nuid": "d377ca26-5901-49ef-8b17-4686af1bd520",
     "widgetInfo": {
      "defaultValue": "None",
      "label": null,
      "name": "feat_gat_embed_dim",
      "options": {
       "validationRegex": null,
       "widgetType": "text"
      },
      "widgetType": "text"
     }
    },
    "gamma": {
     "currentValue": "1.0",
     "nuid": "927273e4-f179-42db-951c-b94c5a1febd6",
     "widgetInfo": {
      "defaultValue": "1.0",
      "label": null,
      "name": "gamma",
      "options": {
       "validationRegex": null,
       "widgetType": "text"
      },
      "widgetType": "text"
     }
    },
    "gamma_lr": {
     "currentValue": "0.9",
     "nuid": "d02e4d6d-92d2-41dc-ad62-67695e418552",
     "widgetInfo": {
      "defaultValue": "0.9",
      "label": null,
      "name": "gamma_lr",
      "options": {
       "validationRegex": null,
       "widgetType": "text"
      },
      "widgetType": "text"
     }
    },
    "gru_hid_dim": {
     "currentValue": "150",
     "nuid": "93725683-f0ee-49ba-8da5-4fdc08a68efd",
     "widgetInfo": {
      "defaultValue": "150",
      "label": null,
      "name": "gru_hid_dim",
      "options": {
       "validationRegex": null,
       "widgetType": "text"
      },
      "widgetType": "text"
     }
    },
    "gru_n_layers": {
     "currentValue": "1",
     "nuid": "ab4214cf-c7fd-4171-ad85-70efea17426e",
     "widgetInfo": {
      "defaultValue": "1",
      "label": null,
      "name": "gru_n_layers",
      "options": {
       "validationRegex": null,
       "widgetType": "text"
      },
      "widgetType": "text"
     }
    },
    "init_lr": {
     "currentValue": "0.001",
     "nuid": "9dd0f0d6-d78f-429c-a61a-8bacd2f790a2",
     "widgetInfo": {
      "defaultValue": "0.001",
      "label": null,
      "name": "init_lr",
      "options": {
       "validationRegex": null,
       "widgetType": "text"
      },
      "widgetType": "text"
     }
    },
    "kernel_size": {
     "currentValue": "7",
     "nuid": "ed293f92-7bd1-4dc1-b04e-79bed6a91c92",
     "widgetInfo": {
      "defaultValue": "7",
      "label": null,
      "name": "kernel_size",
      "options": {
       "validationRegex": null,
       "widgetType": "text"
      },
      "widgetType": "text"
     }
    },
    "patience": {
     "currentValue": "None",
     "nuid": "194b4cdf-b18b-4fd9-aa55-be0e08253a5a",
     "widgetInfo": {
      "defaultValue": "None",
      "label": null,
      "name": "patience",
      "options": {
       "validationRegex": null,
       "widgetType": "text"
      },
      "widgetType": "text"
     }
    },
    "print_every": {
     "currentValue": "1",
     "nuid": "fb36a5bf-1056-4fd2-9aca-e5e9bc5704c3",
     "widgetInfo": {
      "defaultValue": "1",
      "label": null,
      "name": "print_every",
      "options": {
       "validationRegex": null,
       "widgetType": "text"
      },
      "widgetType": "text"
     }
    },
    "recon_hid_dim": {
     "currentValue": "150",
     "nuid": "357a04c7-d467-49f8-939a-2d46d87c1e78",
     "widgetInfo": {
      "defaultValue": "150",
      "label": null,
      "name": "recon_hid_dim",
      "options": {
       "validationRegex": null,
       "widgetType": "text"
      },
      "widgetType": "text"
     }
    },
    "recon_n_layers": {
     "currentValue": "1",
     "nuid": "9d026682-77f1-4ce2-abfc-c8c4067237c6",
     "widgetInfo": {
      "defaultValue": "1",
      "label": null,
      "name": "recon_n_layers",
      "options": {
       "validationRegex": null,
       "widgetType": "text"
      },
      "widgetType": "text"
     }
    },
    "reg_level": {
     "currentValue": "1",
     "nuid": "b3970082-0ee3-46c4-8e7e-297f50f24f5e",
     "widgetInfo": {
      "defaultValue": "1",
      "label": null,
      "name": "reg_level",
      "options": {
       "validationRegex": null,
       "widgetType": "text"
      },
      "widgetType": "text"
     }
    },
    "shuffle_dataset": {
     "currentValue": "True",
     "nuid": "f59210e6-7e02-4b41-8f0b-7587c8043a65",
     "widgetInfo": {
      "defaultValue": "True",
      "label": null,
      "name": "shuffle_dataset",
      "options": {
       "validationRegex": null,
       "widgetType": "text"
      },
      "widgetType": "text"
     }
    },
    "step_lr": {
     "currentValue": "10",
     "nuid": "08a057ff-0cba-4d7c-9fc9-2ba26ca706dd",
     "widgetInfo": {
      "defaultValue": "10",
      "label": null,
      "name": "step_lr",
      "options": {
       "validationRegex": null,
       "widgetType": "text"
      },
      "widgetType": "text"
     }
    },
    "stride": {
     "currentValue": "1",
     "nuid": "40401ea0-d544-49b7-bea9-953d4c7b5186",
     "widgetInfo": {
      "defaultValue": "1",
      "label": null,
      "name": "stride",
      "options": {
       "validationRegex": null,
       "widgetType": "text"
      },
      "widgetType": "text"
     }
    },
    "time_gat_embed_dim": {
     "currentValue": "None",
     "nuid": "5ba78146-19c7-4b88-990f-376812f5da86",
     "widgetInfo": {
      "defaultValue": "None",
      "label": null,
      "name": "time_gat_embed_dim",
      "options": {
       "validationRegex": null,
       "widgetType": "text"
      },
      "widgetType": "text"
     }
    },
    "train_end": {
     "currentValue": "None",
     "nuid": "55bbd9dc-71ba-451c-bb10-909b74305343",
     "widgetInfo": {
      "defaultValue": "None",
      "label": null,
      "name": "train_end",
      "options": {
       "validationRegex": null,
       "widgetType": "text"
      },
      "widgetType": "text"
     }
    },
    "train_start": {
     "currentValue": "0",
     "nuid": "9a933970-e3d2-4eb1-8a32-bc3ec4627f91",
     "widgetInfo": {
      "defaultValue": "0",
      "label": null,
      "name": "train_start",
      "options": {
       "validationRegex": null,
       "widgetType": "text"
      },
      "widgetType": "text"
     }
    },
    "use_cuda": {
     "currentValue": "True",
     "nuid": "75c30137-c4c4-437c-bbf8-2db62496af2c",
     "widgetInfo": {
      "defaultValue": "True",
      "label": null,
      "name": "use_cuda",
      "options": {
       "validationRegex": null,
       "widgetType": "text"
      },
      "widgetType": "text"
     }
    },
    "use_gatv2": {
     "currentValue": "True",
     "nuid": "94517023-ce78-4366-8e70-eaf32b8cd27b",
     "widgetInfo": {
      "defaultValue": "True",
      "label": null,
      "name": "use_gatv2",
      "options": {
       "validationRegex": null,
       "widgetType": "text"
      },
      "widgetType": "text"
     }
    },
    "use_mov_av": {
     "currentValue": "False",
     "nuid": "c59f0dcd-9487-44ad-9aad-2429aec9fc3b",
     "widgetInfo": {
      "defaultValue": "False",
      "label": null,
      "name": "use_mov_av",
      "options": {
       "validationRegex": null,
       "widgetType": "text"
      },
      "widgetType": "text"
     }
    },
    "val_split": {
     "currentValue": "0.1",
     "nuid": "1af22590-efc7-4778-94d9-63c561f2d00e",
     "widgetInfo": {
      "defaultValue": "0.1",
      "label": null,
      "name": "val_split",
      "options": {
       "validationRegex": null,
       "widgetType": "text"
      },
      "widgetType": "text"
     }
    },
    "window_size": {
     "currentValue": "100",
     "nuid": "dc34f408-c3f0-4b5c-b5aa-3f5f6d7d811a",
     "widgetInfo": {
      "defaultValue": "100",
      "label": null,
      "name": "window_size",
      "options": {
       "validationRegex": null,
       "widgetType": "text"
      },
      "widgetType": "text"
     }
    }
   }
  },
  "language_info": {
   "name": "python"
  }
 },
 "nbformat": 4,
 "nbformat_minor": 0
}
